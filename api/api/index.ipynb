{
 "cells": [
  {
   "cell_type": "code",
   "execution_count": 2,
   "metadata": {},
   "outputs": [],
   "source": [
    "import pandas as pd\n",
    "import os\n",
    "import datetime\n"
   ]
  },
  {
   "cell_type": "code",
   "execution_count": 3,
   "metadata": {},
   "outputs": [],
   "source": [
    "base_path = os.path.join('tcat-ny-us')\n",
    "trips_df = pd.read_csv(os.path.join(base_path, 'trips.txt'))\n",
    "stop_times_df = pd.read_csv(os.path.join(base_path, 'stop_times.txt'))\n",
    "stops_df = pd.read_csv(os.path.join(base_path, 'stops.txt'))\n"
   ]
  },
  {
   "cell_type": "code",
   "execution_count": 6,
   "metadata": {},
   "outputs": [
    {
     "name": "stdout",
     "output_type": "stream",
     "text": [
      "00:09:02\n",
      "Series([], Name: trip_id, dtype: object)\n"
     ]
    }
   ],
   "source": [
    "route_id = 30; \n",
    "relevant_trips = trips_df[trips_df['route_id'] == route_id]\n",
    "relevant_stop_times = stop_times_df[stop_times_df['trip_id'].isin(relevant_trips['trip_id'])]\n",
    "\n",
    "current_time = datetime.datetime.now()\n",
    "current_time_str = current_time.strftime('%H:%M:%S')\n",
    "print(current_time_str)\n",
    "# Get active trips for the current time\n",
    "active_trips = (relevant_stop_times[\n",
    "    (relevant_stop_times['departure_time'] <= current_time_str) & \n",
    "    (relevant_stop_times['arrival_time'] >= current_time_str)\n",
    "])\n",
    "\n",
    "# Get the first active trip_id\n",
    "active_trip_id = active_trips['trip_id']\n",
    "print(active_trip_id)\n"
   ]
  },
  {
   "cell_type": "code",
   "execution_count": 32,
   "metadata": {},
   "outputs": [
    {
     "data": {
      "text/plain": [
       "(25, 1)"
      ]
     },
     "execution_count": 32,
     "metadata": {},
     "output_type": "execute_result"
    }
   ],
   "source": [
    "relevant_stop_times = stop_times_df[stop_times_df['trip_id'].isin(relevant_trips['trip_id'])]\n",
    "\n",
    "ordered_stops = (relevant_stop_times[relevant_stop_times['trip_id'] == active_trip_id]\n",
    "                .merge(stops_df, on='stop_id')\n",
    "                .sort_values('stop_sequence')\n",
    "                [['stop_name']]\n",
    "                .drop_duplicates())\n",
    "\n",
    "ordered_stops.shape"
   ]
  },
  {
   "cell_type": "code",
   "execution_count": 23,
   "metadata": {},
   "outputs": [],
   "source": [
    "output_file = os.path.join('tcat-ny-us', f'route_v2_{route_id}.txt')\n",
    "ordered_stops['stop_name'].to_csv(output_file, index=False, header=False, quoting=None)"
   ]
  },
  {
   "cell_type": "code",
   "execution_count": null,
   "metadata": {},
   "outputs": [],
   "source": [
    "relevant_stop_times = stop_times_df[stop_times_df['trip_id'].isin(relevant_trips['trip_id'])]\n",
    "\n",
    "stops_df.head()\n",
    "\n",
    "# ordered_stops = (relevant_stop_times\n",
    "#                     .merge(stops_df, on='stop_id')\n",
    "#                     .sort_values('stop_sequence')\n",
    "#                     [['stop_name']]\n",
    "#                     .drop_duplicates())\n",
    "# output_file = os.path.join('tcat-ny-us', f'route_{route_id}.txt')\n",
    "# ordered_stops['stop_name'].to_csv(output_file, index=False, header=False, quoting=None)\n",
    "\n"
   ]
  },
  {
   "cell_type": "code",
   "execution_count": null,
   "metadata": {},
   "outputs": [],
   "source": [
    "def get_ordered_stops_for_route(route_id):\n",
    "    # Filter trips for the specific route\n",
    "    relevant_trips = trips_df[trips_df['route_id'] == route_id]\n",
    "    \n",
    "    # Get stop times for those trips\n",
    "    relevant_stop_times = stop_times_df[stop_times_df['trip_id'].isin(relevant_trips['trip_id'])]\n",
    "    \n",
    "    # Join with stops and order by sequence\n",
    "    ordered_stops = (relevant_stop_times\n",
    "                    .merge(stops_df, on='stop_id')\n",
    "                    .sort_values('stop_sequence')\n",
    "                    [['stop_id', 'stop_name', 'stop_sequence']]\n",
    "                    .drop_duplicates())\n",
    "    \n",
    "    return ordered_stops.to_dict('records')"
   ]
  },
  {
   "cell_type": "code",
   "execution_count": 8,
   "metadata": {},
   "outputs": [
    {
     "data": {
      "text/plain": [
       "[{'stop_name': 'Ithaca Commons - Seneca St'},\n",
       " {'stop_name': 'Albany at Salvation Army'},\n",
       " {'stop_name': 'Ithaca Commons - Green St'},\n",
       " {'stop_name': 'State/MLK @ Stewart'},\n",
       " {'stop_name': 'State/MLK @ Quarry'},\n",
       " {'stop_name': 'College @ Mitchell'},\n",
       " {'stop_name': 'Collegetown Crossing'},\n",
       " {'stop_name': 'College @ Oak'},\n",
       " {'stop_name': 'Carpenter Hall'},\n",
       " {'stop_name': 'Baker Flagpole  - Slope Side'},\n",
       " {'stop_name': 'Milstein Hall'},\n",
       " {'stop_name': 'Thurston at Balch Hall'},\n",
       " {'stop_name': 'Jessup @ Triphammer'},\n",
       " {'stop_name': 'Robert Purcell Community Center'},\n",
       " {'stop_name': 'Jessup @ Pleasant Grove'},\n",
       " {'stop_name': 'Pleasant Grove @ Hanshaw'},\n",
       " {'stop_name': 'Triphammer @ Texas'},\n",
       " {'stop_name': 'Triphammer @ Winthrop'},\n",
       " {'stop_name': 'Triphammer at Kendal'},\n",
       " {'stop_name': 'Triphammer Marketplace'},\n",
       " {'stop_name': 'Cayuga Mall'},\n",
       " {'stop_name': 'Graham@Butler'},\n",
       " {'stop_name': 'The Shops at Ithaca Mall'}]"
      ]
     },
     "execution_count": 8,
     "metadata": {},
     "output_type": "execute_result"
    }
   ],
   "source": [
    "def get_stops_by_trip(trip_id):\n",
    "    try:\n",
    "        # Get stop times for the specific trip\n",
    "        trip_stop_times = stop_times_df[stop_times_df['trip_id'].astype(str) == str(trip_id)]\n",
    "        \n",
    "        # Get ordered stops by joining with stops table\n",
    "        ordered_stops = (trip_stop_times\n",
    "                        .merge(stops_df, on='stop_id')\n",
    "                        .sort_values('stop_sequence')\n",
    "                        [['stop_name']]\n",
    "                        .drop_duplicates())\n",
    "        \n",
    "        if ordered_stops.empty:\n",
    "            print(f\"No stops found for trip_id: {trip_id}\")\n",
    "            return []\n",
    "            \n",
    "        return ordered_stops.to_dict('records')\n",
    "        \n",
    "    except Exception as e:\n",
    "        print(f\"Error getting stops for trip_id {trip_id}: {str(e)}\")\n",
    "        return []\n",
    "\n",
    "\n",
    "get_stops_by_trip('t730-b1B67-slD')"
   ]
  },
  {
   "cell_type": "code",
   "execution_count": null,
   "metadata": {},
   "outputs": [],
   "source": []
  }
 ],
 "metadata": {
  "kernelspec": {
   "display_name": "venv",
   "language": "python",
   "name": "python3"
  },
  "language_info": {
   "codemirror_mode": {
    "name": "ipython",
    "version": 3
   },
   "file_extension": ".py",
   "mimetype": "text/x-python",
   "name": "python",
   "nbconvert_exporter": "python",
   "pygments_lexer": "ipython3",
   "version": "3.12.1"
  }
 },
 "nbformat": 4,
 "nbformat_minor": 2
}
